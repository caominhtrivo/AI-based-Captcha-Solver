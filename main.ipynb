{
 "cells": [
  {
   "metadata": {},
   "cell_type": "code",
   "source": [
    "import os\n",
    "import shutil\n",
    "import random\n",
    "import numpy as np\n",
    "import matplotlib.pyplot as plt\n",
    "import cv2\n",
    "from PIL import Image\n",
    "\n",
    "import tensorflow as tf\n",
    "from tensorflow.keras.preprocessing import image_dataset_from_directory\n",
    "from tensorflow.keras import layers, models\n",
    "from tensorflow.keras.applications import ResNet50\n",
    "from tensorflow.keras.applications.resnet50 import preprocess_input, decode_predictions"
   ],
   "id": "fbc121e30a2defb3",
   "outputs": [],
   "execution_count": null
  },
  {
   "metadata": {},
   "cell_type": "code",
   "source": [
    "datapath = os.path.join('dataset')\n",
    "X = []\n",
    "Y = []\n",
    "class_names = sorted(os.listdir(datapath)) #bikes, busses, ... bla bla\n",
    "label_map = {name: idx for idx, name in enumerate(class_names)}\n",
    "for object in class_names: #iterate thru each folder\n",
    "    for img in os.listdir(os.path.join(datapath, object)): #iterate thru each img in each folder\n",
    "        img = cv2.imread(os.path.join(datapath, object, img))\n",
    "        img = cv2.cvtColor(img, cv2.COLOR_BGR2RGB) #k can convert sang blackwhite, resnet doc RGB duoc\n",
    "        img = cv2.resize(img, (224, 224))\n",
    "        X.append(img)\n",
    "        Y.append(label_map[object])"
   ],
   "id": "f2e241d0ffbc6baf",
   "outputs": [],
   "execution_count": null
  },
  {
   "metadata": {},
   "cell_type": "code",
   "source": [
    "#convert to numpy arr\n",
    "X = np.array(X, dtype=np.float32)\n",
    "Y = np.array(Y)\n",
    "print(\"example label:\",Y[1])\n",
    "print(\"X shape:\",X.shape)\n",
    "print(\"Y shape:\",Y.shape)"
   ],
   "id": "e2d0d6c4a0b46d6",
   "outputs": [],
   "execution_count": null
  },
  {
   "metadata": {},
   "cell_type": "code",
   "source": [
    "#normalize 0-255 -> 0-1\n",
    "X = X / 255.0\n",
    "print(X.shape)\n",
    "print(X[1])\n",
    "Y = tf.keras.utils.to_categorical(Y, num_classes=len(class_names)) #one-hot encoding\n",
    "print(Y.shape)\n",
    "print(Y[1])"
   ],
   "id": "294a00a0a154d169",
   "outputs": [],
   "execution_count": null
  },
  {
   "metadata": {},
   "cell_type": "code",
   "source": [
    "#split data -> train 70, val 15, test 15\n",
    "dataset = tf.data.Dataset.from_tensor_slices((X, Y))\n",
    "dataset = dataset.shuffle(buffer_size = len(X), seed = 30) #avoid bias\n",
    "train_size = int(0.7 * len(X))\n",
    "val_size = int(0.15 * len(X))\n",
    "test_size = int(0.15 * len(X))\n",
    "train_data = dataset.take(train_size)\n",
    "val_data = dataset.skip(train_size).take(val_size)\n",
    "test_data = dataset.skip(train_size).skip(val_size).take(test_size)\n",
    "print(train_data.cardinality(), val_data.cardinality(), test_data.cardinality())"
   ],
   "id": "df4ec00e08a96f",
   "outputs": [],
   "execution_count": null
  },
  {
   "metadata": {},
   "cell_type": "code",
   "source": [
    "#chia ra batch\n",
    "BATCH_SIZE = 32\n",
    "train_dataset = train_data.batch(BATCH_SIZE).prefetch(buffer_size=tf.data.AUTOTUNE)\n",
    "val_dataset = val_data.batch(BATCH_SIZE).prefetch(buffer_size=tf.data.AUTOTUNE)\n",
    "test_dataset = test_data.batch(BATCH_SIZE).prefetch(buffer_size=tf.data.AUTOTUNE)"
   ],
   "id": "260c92303cb6a07b",
   "outputs": [],
   "execution_count": null
  },
  {
   "metadata": {},
   "cell_type": "code",
   "source": [
    "#load base model (resnet)\n",
    "base_model = ResNet50(\n",
    "    weights='imagenet',\n",
    "    include_top=False, #remove last layer\n",
    "    input_shape=(224, 224, 3)\n",
    ")\n",
    "base_model.trainable = False"
   ],
   "id": "e03199b7141991e6",
   "outputs": [],
   "execution_count": null
  },
  {
   "metadata": {},
   "cell_type": "code",
   "source": [
    "#build main model\n",
    "model = tf.keras.Sequential([\n",
    "    base_model,\n",
    "    layers.GlobalAveragePooling2D(),\n",
    "    layers.Dropout(0.2), #avoid overfitting\n",
    "    layers.Dense(128, activation='relu'),\n",
    "    layers.Dense(12, activation='softmax'),\n",
    "])"
   ],
   "id": "69b0682c18062df3",
   "outputs": [],
   "execution_count": null
  },
  {
   "metadata": {},
   "cell_type": "code",
   "source": [
    "model.compile(\n",
    "    optimizer='adam',\n",
    "    loss='categorical_crossentropy',\n",
    "    metrics=['accuracy']\n",
    ")"
   ],
   "id": "194878bf42174279",
   "outputs": [],
   "execution_count": null
  },
  {
   "metadata": {},
   "cell_type": "code",
   "source": "history = model.fit(train_dataset, epochs=5, validation_data=val_dataset)",
   "id": "3c4edfb9fde8ca98",
   "outputs": [],
   "execution_count": null
  },
  {
   "metadata": {},
   "cell_type": "code",
   "source": "",
   "id": "143585d39c93ff19",
   "outputs": [],
   "execution_count": null
  }
 ],
 "metadata": {
  "kernelspec": {
   "display_name": "Python 3",
   "language": "python",
   "name": "python3"
  },
  "language_info": {
   "codemirror_mode": {
    "name": "ipython",
    "version": 2
   },
   "file_extension": ".py",
   "mimetype": "text/x-python",
   "name": "python",
   "nbconvert_exporter": "python",
   "pygments_lexer": "ipython2",
   "version": "2.7.6"
  }
 },
 "nbformat": 4,
 "nbformat_minor": 5
}
