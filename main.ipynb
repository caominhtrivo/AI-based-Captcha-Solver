{
  "cells": [
    {
      "cell_type": "markdown",
      "metadata": {
        "id": "view-in-github",
        "colab_type": "text"
      },
      "source": [
        "<a href=\"https://colab.research.google.com/github/caominhtrivo/AI-based-Captcha-Solver/blob/main/main.ipynb\" target=\"_parent\"><img src=\"https://colab.research.google.com/assets/colab-badge.svg\" alt=\"Open In Colab\"/></a>"
      ]
    },
    {
      "metadata": {
        "id": "fbc121e30a2defb3"
      },
      "cell_type": "code",
      "source": [
        "import os\n",
        "import shutil\n",
        "import random\n",
        "import numpy as np\n",
        "import matplotlib.pyplot as plt\n",
        "import cv2\n",
        "from PIL import Image\n",
        "\n",
        "import tensorflow as tf\n",
        "from tensorflow.keras.preprocessing import image_dataset_from_directory\n",
        "from tensorflow.keras import layers, models\n",
        "from tensorflow.keras.applications import ResNet50\n",
        "from tensorflow.keras.applications.resnet50 import preprocess_input, decode_predictions"
      ],
      "id": "fbc121e30a2defb3",
      "outputs": [],
      "execution_count": null
    },
    {
      "metadata": {
        "id": "f2e241d0ffbc6baf"
      },
      "cell_type": "code",
      "source": [
        "datapath = '/content/dataset'\n",
        "X = []\n",
        "Y = []\n",
        "class_names = sorted(os.listdir(datapath)) #bikes, busses, ... bla bla\n",
        "label_map = {name: idx for idx, name in enumerate(class_names)}\n",
        "for object in class_names: #iterate thru each folder\n",
        "    for img in os.listdir(os.path.join(datapath, object)): #iterate thru each img in each folder\n",
        "        img = cv2.imread(os.path.join(datapath, object, img))\n",
        "        img = cv2.cvtColor(img, cv2.COLOR_BGR2RGB) #k can convert sang blackwhite, resnet doc RGB duoc\n",
        "        img = cv2.resize(img, (224, 224))\n",
        "        X.append(img)\n",
        "        Y.append(label_map[object])"
      ],
      "id": "f2e241d0ffbc6baf",
      "outputs": [],
      "execution_count": null
    },
    {
      "metadata": {
        "colab": {
          "base_uri": "https://localhost:8080/"
        },
        "id": "e2d0d6c4a0b46d6",
        "outputId": "3cc1e460-37ac-4a22-dde5-c6bb974a0dc3"
      },
      "cell_type": "code",
      "source": [
        "#convert to numpy arr\n",
        "X = np.array(X, dtype=np.float32)\n",
        "Y = np.array(Y)\n",
        "print(\"example label:\",Y[1])\n",
        "print(\"X shape:\",X.shape)\n",
        "print(\"Y shape:\",Y.shape)"
      ],
      "id": "e2d0d6c4a0b46d6",
      "outputs": [
        {
          "output_type": "stream",
          "name": "stdout",
          "text": [
            "example label: 0\n",
            "X shape: (11730, 224, 224, 3)\n",
            "Y shape: (11730,)\n"
          ]
        }
      ],
      "execution_count": null
    },
    {
      "metadata": {
        "colab": {
          "base_uri": "https://localhost:8080/"
        },
        "id": "294a00a0a154d169",
        "outputId": "01ba44c4-2b70-4dba-c337-88508f9b3b97"
      },
      "cell_type": "code",
      "source": [
        "#normalize 0-255 -> 0-1\n",
        "X = X / 255.0\n",
        "print(X.shape)\n",
        "print(X[1])\n",
        "Y = tf.keras.utils.to_categorical(Y, num_classes=len(class_names)) #one-hot encoding\n",
        "print(Y.shape)\n",
        "print(Y[1])"
      ],
      "id": "294a00a0a154d169",
      "outputs": [
        {
          "output_type": "stream",
          "name": "stdout",
          "text": [
            "(11730, 224, 224, 3)\n",
            "[[[0.7058824  0.6901961  0.68235296]\n",
            "  [0.7137255  0.7019608  0.69411767]\n",
            "  [0.73333335 0.7254902  0.7176471 ]\n",
            "  ...\n",
            "  [0.5568628  0.49803922 0.4745098 ]\n",
            "  [0.49803922 0.4392157  0.41568628]\n",
            "  [0.46666667 0.40784314 0.38039216]]\n",
            "\n",
            " [[0.62352943 0.60784316 0.6039216 ]\n",
            "  [0.627451   0.6156863  0.6117647 ]\n",
            "  [0.6392157  0.6313726  0.627451  ]\n",
            "  ...\n",
            "  [0.5921569  0.5294118  0.5019608 ]\n",
            "  [0.5568628  0.49019608 0.4627451 ]\n",
            "  [0.5372549  0.47058824 0.44313726]]\n",
            "\n",
            " [[0.4745098  0.4627451  0.46666667]\n",
            "  [0.4745098  0.4627451  0.46666667]\n",
            "  [0.4745098  0.46666667 0.47058824]\n",
            "  ...\n",
            "  [0.654902   0.5764706  0.5529412 ]\n",
            "  [0.65882355 0.58431375 0.5529412 ]\n",
            "  [0.65882355 0.58431375 0.5529412 ]]\n",
            "\n",
            " ...\n",
            "\n",
            " [[0.69803923 0.7058824  0.7019608 ]\n",
            "  [0.69411767 0.7019608  0.69803923]\n",
            "  [0.6862745  0.69411767 0.6901961 ]\n",
            "  ...\n",
            "  [0.2627451  0.30588236 0.34901962]\n",
            "  [0.25490198 0.29803923 0.34117648]\n",
            "  [0.2509804  0.29411766 0.33333334]]\n",
            "\n",
            " [[0.7176471  0.72156864 0.72156864]\n",
            "  [0.70980394 0.7176471  0.7137255 ]\n",
            "  [0.69803923 0.70980394 0.7058824 ]\n",
            "  ...\n",
            "  [0.27450982 0.3137255  0.3529412 ]\n",
            "  [0.26666668 0.30588236 0.34509805]\n",
            "  [0.25882354 0.3019608  0.3372549 ]]\n",
            "\n",
            " [[0.7254902  0.73333335 0.7294118 ]\n",
            "  [0.7176471  0.7254902  0.72156864]\n",
            "  [0.70980394 0.7176471  0.7137255 ]\n",
            "  ...\n",
            "  [0.28235295 0.32156864 0.35686275]\n",
            "  [0.27058825 0.30980393 0.34509805]\n",
            "  [0.26666668 0.30588236 0.34117648]]]\n",
            "(11730, 12)\n",
            "[1. 0. 0. 0. 0. 0. 0. 0. 0. 0. 0. 0.]\n"
          ]
        }
      ],
      "execution_count": null
    },
    {
      "metadata": {
        "colab": {
          "base_uri": "https://localhost:8080/"
        },
        "id": "df4ec00e08a96f",
        "outputId": "051d7737-b0ec-4080-f81e-44db4c297763"
      },
      "cell_type": "code",
      "source": [
        "#split data -> train 70, val 15, test 15\n",
        "dataset = tf.data.Dataset.from_tensor_slices((X, Y))\n",
        "dataset = dataset.shuffle(buffer_size = len(X), seed = 30) #avoid bias\n",
        "train_size = int(0.7 * len(X))\n",
        "val_size = int(0.15 * len(X))\n",
        "test_size = int(0.15 * len(X))\n",
        "train_data = dataset.take(train_size)\n",
        "val_data = dataset.skip(train_size).take(val_size)\n",
        "test_data = dataset.skip(train_size).skip(val_size).take(test_size)\n",
        "print(train_data.cardinality(), val_data.cardinality(), test_data.cardinality())"
      ],
      "id": "df4ec00e08a96f",
      "outputs": [
        {
          "output_type": "stream",
          "name": "stdout",
          "text": [
            "tf.Tensor(8211, shape=(), dtype=int64) tf.Tensor(1759, shape=(), dtype=int64) tf.Tensor(1759, shape=(), dtype=int64)\n"
          ]
        }
      ],
      "execution_count": null
    },
    {
      "metadata": {
        "id": "260c92303cb6a07b"
      },
      "cell_type": "code",
      "source": [
        "#chia ra batch\n",
        "BATCH_SIZE = 32\n",
        "train_dataset = train_data.batch(BATCH_SIZE).prefetch(buffer_size=tf.data.AUTOTUNE)\n",
        "val_dataset = val_data.batch(BATCH_SIZE).prefetch(buffer_size=tf.data.AUTOTUNE)\n",
        "test_dataset = test_data.batch(BATCH_SIZE).prefetch(buffer_size=tf.data.AUTOTUNE)"
      ],
      "id": "260c92303cb6a07b",
      "outputs": [],
      "execution_count": null
    },
    {
      "cell_type": "code",
      "source": [
        "from tensorflow.keras import layers\n",
        "\n",
        "data_augmentation = tf.keras.Sequential([\n",
        "  layers.RandomFlip(\"horizontal_and_vertical\"),\n",
        "  layers.RandomRotation(0.1),\n",
        "  layers.RandomZoom(0.1),\n",
        "])"
      ],
      "metadata": {
        "id": "i6CLKQAnKJPq"
      },
      "id": "i6CLKQAnKJPq",
      "execution_count": null,
      "outputs": []
    },
    {
      "metadata": {
        "id": "e03199b7141991e6"
      },
      "cell_type": "code",
      "source": [
        "#load base model (resnet) dcm ngu vcl\n",
        "base_model = ResNet50(\n",
        "    weights='imagenet',\n",
        "    include_top=False, #remove last layer\n",
        "    input_shape=(224, 224, 3)\n",
        ")\n",
        "base_model.trainable = False\n",
        "#skip resnet"
      ],
      "id": "e03199b7141991e6",
      "outputs": [],
      "execution_count": null
    },
    {
      "metadata": {
        "id": "69b0682c18062df3"
      },
      "cell_type": "code",
      "source": [
        "#build main model\n",
        "input_shape = (224, 224, 3)\n",
        "num_classes = len(class_names) #12\n",
        "model = tf.keras.Sequential([\n",
        "    data_augmentation,\n",
        "    layers.Conv2D(32, (3, 3), activation='relu', input_shape=input_shape),\n",
        "    layers.BatchNormalization(),\n",
        "    layers.MaxPooling2D((2, 2)),\n",
        "    layers.Conv2D(64, (3, 3), activation='relu'),\n",
        "    layers.BatchNormalization(),\n",
        "    layers.MaxPooling2D((2, 2)),\n",
        "    layers.Conv2D(128, (3, 3), activation='relu'),\n",
        "    layers.BatchNormalization(),\n",
        "    layers.MaxPooling2D((2, 2)),\n",
        "    layers.Flatten(),\n",
        "    layers.Dense(128, activation='relu'),\n",
        "    layers.Dropout(0.3),\n",
        "    layers.Dense(num_classes, activation='softmax')\n",
        "])"
      ],
      "id": "69b0682c18062df3",
      "outputs": [],
      "execution_count": null
    },
    {
      "metadata": {
        "id": "194878bf42174279"
      },
      "cell_type": "code",
      "source": [
        "model.compile(\n",
        "    optimizer=tf.keras.optimizers.Adam(learning_rate=0.0001),\n",
        "    loss='categorical_crossentropy',\n",
        "    metrics=['accuracy']\n",
        ")"
      ],
      "id": "194878bf42174279",
      "outputs": [],
      "execution_count": null
    },
    {
      "metadata": {
        "colab": {
          "base_uri": "https://localhost:8080/"
        },
        "id": "3c4edfb9fde8ca98",
        "outputId": "e7aaa9b2-f586-48c9-b80e-2325ed3eb9d4"
      },
      "cell_type": "code",
      "source": [
        "history = model.fit(train_dataset, epochs=5, validation_data=val_dataset)"
      ],
      "id": "3c4edfb9fde8ca98",
      "outputs": [
        {
          "output_type": "stream",
          "name": "stdout",
          "text": [
            "Epoch 1/5\n",
            "\u001b[1m257/257\u001b[0m \u001b[32m━━━━━━━━━━━━━━━━━━━━\u001b[0m\u001b[37m\u001b[0m \u001b[1m25s\u001b[0m 99ms/step - accuracy: 0.5748 - loss: 1.2515 - val_accuracy: 0.6538 - val_loss: 1.0133\n",
            "Epoch 2/5\n",
            "\u001b[1m257/257\u001b[0m \u001b[32m━━━━━━━━━━━━━━━━━━━━\u001b[0m\u001b[37m\u001b[0m \u001b[1m25s\u001b[0m 99ms/step - accuracy: 0.5721 - loss: 1.2212 - val_accuracy: 0.6521 - val_loss: 1.0095\n",
            "Epoch 3/5\n",
            "\u001b[1m257/257\u001b[0m \u001b[32m━━━━━━━━━━━━━━━━━━━━\u001b[0m\u001b[37m\u001b[0m \u001b[1m25s\u001b[0m 98ms/step - accuracy: 0.5833 - loss: 1.1825 - val_accuracy: 0.6515 - val_loss: 1.0296\n",
            "Epoch 4/5\n",
            "\u001b[1m257/257\u001b[0m \u001b[32m━━━━━━━━━━━━━━━━━━━━\u001b[0m\u001b[37m\u001b[0m \u001b[1m25s\u001b[0m 98ms/step - accuracy: 0.5735 - loss: 1.2557 - val_accuracy: 0.6350 - val_loss: 1.0923\n",
            "Epoch 5/5\n",
            "\u001b[1m257/257\u001b[0m \u001b[32m━━━━━━━━━━━━━━━━━━━━\u001b[0m\u001b[37m\u001b[0m \u001b[1m25s\u001b[0m 98ms/step - accuracy: 0.5731 - loss: 1.2324 - val_accuracy: 0.6180 - val_loss: 1.1240\n"
          ]
        }
      ],
      "execution_count": null
    },
    {
      "metadata": {
        "id": "143585d39c93ff19"
      },
      "cell_type": "code",
      "source": [],
      "id": "143585d39c93ff19",
      "outputs": [],
      "execution_count": null
    }
  ],
  "metadata": {
    "kernelspec": {
      "display_name": "Python 3",
      "name": "python3"
    },
    "language_info": {
      "codemirror_mode": {
        "name": "ipython",
        "version": 2
      },
      "file_extension": ".py",
      "mimetype": "text/x-python",
      "name": "python",
      "nbconvert_exporter": "python",
      "pygments_lexer": "ipython2",
      "version": "2.7.6"
    },
    "colab": {
      "provenance": [],
      "machine_shape": "hm",
      "gpuType": "L4",
      "include_colab_link": true
    },
    "accelerator": "GPU"
  },
  "nbformat": 4,
  "nbformat_minor": 5
}